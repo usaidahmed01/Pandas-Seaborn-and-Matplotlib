{
 "cells": [
  {
   "cell_type": "code",
   "execution_count": null,
   "id": "701c2911",
   "metadata": {},
   "outputs": [],
   "source": [
    "# Pandas is basically used to analyse the data which means data cleaning , optimization ,etc\n",
    "#  Series (rarely use) , Data Frames or 2Dimensional usually data"
   ]
  },
  {
   "cell_type": "code",
   "execution_count": 5,
   "id": "03e51acc",
   "metadata": {},
   "outputs": [],
   "source": [
    "import pandas as pd"
   ]
  },
  {
   "cell_type": "code",
   "execution_count": 12,
   "id": "d6ade9fc",
   "metadata": {},
   "outputs": [
    {
     "name": "stdout",
     "output_type": "stream",
     "text": [
      "0    50\n",
      "1    78\n",
      "2     9\n",
      "3    23\n",
      "4    55\n",
      "5    67\n",
      "dtype: int64\n"
     ]
    },
    {
     "data": {
      "text/plain": [
       "RangeIndex(start=0, stop=6, step=1)"
      ]
     },
     "execution_count": 12,
     "metadata": {},
     "output_type": "execute_result"
    }
   ],
   "source": [
    "ser = pd.Series([50 , 78 , 9, 23 , 55 , 67])\n",
    "print(ser)\n",
    "ser.index\n",
    "# ser.dtype"
   ]
  },
  {
   "cell_type": "code",
   "execution_count": null,
   "id": "7dea5fae",
   "metadata": {},
   "outputs": [
    {
     "data": {
      "text/plain": [
       "a    20\n",
       "b     5\n",
       "c     2\n",
       "dtype: int64"
      ]
     },
     "execution_count": 14,
     "metadata": {},
     "output_type": "execute_result"
    }
   ],
   "source": [
    "ser2 = pd.Series([20 , 5 , 2] , index = ['a' , 'b' , 'c']) # custom indices = lables\n",
    "ser2"
   ]
  },
  {
   "cell_type": "code",
   "execution_count": 15,
   "id": "55346493",
   "metadata": {},
   "outputs": [
    {
     "data": {
      "text/plain": [
       "np.int64(20)"
      ]
     },
     "execution_count": 15,
     "metadata": {},
     "output_type": "execute_result"
    }
   ],
   "source": [
    "ser2['a']"
   ]
  },
  {
   "cell_type": "code",
   "execution_count": 24,
   "id": "e73a90a3",
   "metadata": {},
   "outputs": [
    {
     "data": {
      "text/plain": [
       "0     True\n",
       "1     True\n",
       "2    False\n",
       "3     True\n",
       "4     True\n",
       "5     True\n",
       "dtype: bool"
      ]
     },
     "execution_count": 24,
     "metadata": {},
     "output_type": "execute_result"
    }
   ],
   "source": [
    "ser > 9"
   ]
  }
 ],
 "metadata": {
  "kernelspec": {
   "display_name": "Python 3",
   "language": "python",
   "name": "python3"
  },
  "language_info": {
   "codemirror_mode": {
    "name": "ipython",
    "version": 3
   },
   "file_extension": ".py",
   "mimetype": "text/x-python",
   "name": "python",
   "nbconvert_exporter": "python",
   "pygments_lexer": "ipython3",
   "version": "3.13.2"
  }
 },
 "nbformat": 4,
 "nbformat_minor": 5
}
